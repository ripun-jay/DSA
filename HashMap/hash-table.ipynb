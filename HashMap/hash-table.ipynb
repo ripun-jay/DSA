{
 "cells": [
  {
   "cell_type": "code",
   "execution_count": 1,
   "id": "d81694d6",
   "metadata": {},
   "outputs": [
    {
     "data": {
      "text/plain": [
       "{'january': '100',\n",
       " 'february': '200',\n",
       " 'march': '300',\n",
       " 'april': '400',\n",
       " 'may': '500',\n",
       " 'june': '600',\n",
       " 'july': '700',\n",
       " 'august': '800',\n",
       " 'september': '900',\n",
       " 'october': '1000',\n",
       " 'november': '1100',\n",
       " 'december': '1200'}"
      ]
     },
     "execution_count": 1,
     "metadata": {},
     "output_type": "execute_result"
    }
   ],
   "source": [
    "dist = {}\n",
    "with open(\"monthdata.csv\", \"r\") as f:\n",
    "    for line in f:\n",
    "        token = line.split(\",\")\n",
    "        month = token[0]\n",
    "        value = token[1].strip()\n",
    "        dist[month] = value\n",
    "dist"
   ]
  },
  {
   "cell_type": "code",
   "execution_count": 2,
   "id": "d52afa0b",
   "metadata": {},
   "outputs": [
    {
     "data": {
      "text/plain": [
       "[['january', '100'],\n",
       " ['february', '200'],\n",
       " ['march', '300'],\n",
       " ['april', '400'],\n",
       " ['may', '500'],\n",
       " ['june', '600'],\n",
       " ['july', '700'],\n",
       " ['august', '800'],\n",
       " ['september', '900'],\n",
       " ['october', '1000'],\n",
       " ['november', '1100'],\n",
       " ['december', '1200']]"
      ]
     },
     "execution_count": 2,
     "metadata": {},
     "output_type": "execute_result"
    }
   ],
   "source": [
    "data = []\n",
    "with open(\"monthdata.csv\", \"r\") as f:\n",
    "    for line in f:\n",
    "        token = line.split(\",\")\n",
    "        month = token[0]\n",
    "        value = token[1].strip()\n",
    "        data.append([month, value])\n",
    "data"
   ]
  },
  {
   "cell_type": "code",
   "execution_count": 3,
   "id": "e368b83a",
   "metadata": {},
   "outputs": [],
   "source": [
    "class HashTable:\n",
    "    def __init__(self):\n",
    "        self.max = 100\n",
    "        self.arr = [None for i in range(self.max)]\n",
    "        \n",
    "    def get_hash(self, key):\n",
    "        h = 0\n",
    "        for char in key:\n",
    "            h+= ord(char)\n",
    "        return h % 100\n",
    "    \n",
    "    def __setitem__(self, key, value):\n",
    "        h = self.get_hash(key)\n",
    "        self.arr[h] = value\n",
    "        \n",
    "    def __getitem__(self, key):\n",
    "        h = self.get_hash(key)\n",
    "        return self.arr[h]\n",
    "        "
   ]
  },
  {
   "cell_type": "code",
   "execution_count": 4,
   "id": "15b94c26",
   "metadata": {},
   "outputs": [
    {
     "data": {
      "text/plain": [
       "[None,\n",
       " None,\n",
       " None,\n",
       " None,\n",
       " None,\n",
       " None,\n",
       " None,\n",
       " None,\n",
       " None,\n",
       " None,\n",
       " None,\n",
       " None,\n",
       " None,\n",
       " None,\n",
       " None,\n",
       " None,\n",
       " None,\n",
       " None,\n",
       " None,\n",
       " None,\n",
       " None,\n",
       " None,\n",
       " None,\n",
       " '1200',\n",
       " None,\n",
       " None,\n",
       " None,\n",
       " '500',\n",
       " None,\n",
       " None,\n",
       " None,\n",
       " None,\n",
       " None,\n",
       " None,\n",
       " '600',\n",
       " None,\n",
       " '400',\n",
       " None,\n",
       " None,\n",
       " None,\n",
       " None,\n",
       " None,\n",
       " None,\n",
       " None,\n",
       " None,\n",
       " None,\n",
       " None,\n",
       " None,\n",
       " None,\n",
       " None,\n",
       " '1000',\n",
       " None,\n",
       " '700',\n",
       " None,\n",
       " None,\n",
       " None,\n",
       " None,\n",
       " None,\n",
       " None,\n",
       " None,\n",
       " None,\n",
       " None,\n",
       " '1100',\n",
       " None,\n",
       " '200',\n",
       " '800',\n",
       " None,\n",
       " '900',\n",
       " None,\n",
       " None,\n",
       " None,\n",
       " None,\n",
       " None,\n",
       " None,\n",
       " None,\n",
       " None,\n",
       " None,\n",
       " None,\n",
       " None,\n",
       " None,\n",
       " None,\n",
       " None,\n",
       " None,\n",
       " None,\n",
       " None,\n",
       " None,\n",
       " None,\n",
       " None,\n",
       " None,\n",
       " None,\n",
       " None,\n",
       " None,\n",
       " None,\n",
       " None,\n",
       " None,\n",
       " None,\n",
       " None,\n",
       " None,\n",
       " None,\n",
       " None]"
      ]
     },
     "execution_count": 4,
     "metadata": {},
     "output_type": "execute_result"
    }
   ],
   "source": [
    "t = HashTable()\n",
    "t[\"january\"] = 100\n",
    "for arr in data:\n",
    "    t[arr[0]] = arr[1]\n",
    "t.arr"
   ]
  },
  {
   "cell_type": "code",
   "execution_count": 5,
   "id": "5d5e035e",
   "metadata": {},
   "outputs": [
    {
     "data": {
      "text/plain": [
       "'1100'"
      ]
     },
     "execution_count": 5,
     "metadata": {},
     "output_type": "execute_result"
    }
   ],
   "source": [
    "t[\"january\"]"
   ]
  },
  {
   "cell_type": "code",
   "execution_count": 6,
   "id": "12e48983",
   "metadata": {},
   "outputs": [
    {
     "data": {
      "text/plain": [
       "'1200'"
      ]
     },
     "execution_count": 6,
     "metadata": {},
     "output_type": "execute_result"
    }
   ],
   "source": [
    "t[\"march\"]"
   ]
  },
  {
   "cell_type": "code",
   "execution_count": 7,
   "id": "f7127f50",
   "metadata": {},
   "outputs": [],
   "source": [
    "prices = [1,2,3,4]"
   ]
  },
  {
   "cell_type": "code",
   "execution_count": 8,
   "id": "077363c3",
   "metadata": {},
   "outputs": [
    {
     "data": {
      "text/plain": [
       "['r', 2, 3, 4]"
      ]
     },
     "execution_count": 8,
     "metadata": {},
     "output_type": "execute_result"
    }
   ],
   "source": [
    "prices.__setitem__(0,\"r\")\n",
    "prices"
   ]
  },
  {
   "cell_type": "code",
   "execution_count": 9,
   "id": "00bf3646",
   "metadata": {},
   "outputs": [
    {
     "data": {
      "text/plain": [
       "4"
      ]
     },
     "execution_count": 9,
     "metadata": {},
     "output_type": "execute_result"
    }
   ],
   "source": [
    "prices.__getitem__(-1)"
   ]
  },
  {
   "cell_type": "code",
   "execution_count": 10,
   "id": "2718a75d",
   "metadata": {},
   "outputs": [
    {
     "data": {
      "text/plain": [
       "{'january': '100',\n",
       " 'february': '200',\n",
       " 'march': '300',\n",
       " 'april': '400',\n",
       " 'may': '500',\n",
       " 'june': '600',\n",
       " 'july': '700',\n",
       " 'august': '800',\n",
       " 'september': '900',\n",
       " 'october': '1000',\n",
       " 'november': '1100',\n",
       " 'december': '1200'}"
      ]
     },
     "execution_count": 10,
     "metadata": {},
     "output_type": "execute_result"
    }
   ],
   "source": [
    "dist"
   ]
  },
  {
   "cell_type": "code",
   "execution_count": 11,
   "id": "6b632fea",
   "metadata": {},
   "outputs": [
    {
     "ename": "KeyError",
     "evalue": "3",
     "output_type": "error",
     "traceback": [
      "\u001b[1;31m---------------------------------------------------------------------------\u001b[0m",
      "\u001b[1;31mKeyError\u001b[0m                                  Traceback (most recent call last)",
      "Cell \u001b[1;32mIn[11], line 1\u001b[0m\n\u001b[1;32m----> 1\u001b[0m \u001b[43mdist\u001b[49m\u001b[43m[\u001b[49m\u001b[38;5;241;43m3\u001b[39;49m\u001b[43m]\u001b[49m\n",
      "\u001b[1;31mKeyError\u001b[0m: 3"
     ]
    }
   ],
   "source": [
    "dist[3]"
   ]
  },
  {
   "cell_type": "code",
   "execution_count": 12,
   "id": "eb943666",
   "metadata": {},
   "outputs": [
    {
     "data": {
      "text/plain": [
       "'700'"
      ]
     },
     "execution_count": 12,
     "metadata": {},
     "output_type": "execute_result"
    }
   ],
   "source": [
    "dist[\"july\"]"
   ]
  },
  {
   "cell_type": "code",
   "execution_count": 13,
   "id": "34da8679",
   "metadata": {},
   "outputs": [
    {
     "name": "stdout",
     "output_type": "stream",
     "text": [
      "january\n",
      "february\n",
      "march\n",
      "april\n",
      "may\n",
      "june\n",
      "july\n",
      "august\n",
      "september\n",
      "october\n",
      "november\n",
      "december\n"
     ]
    }
   ],
   "source": [
    "for e in dist:\n",
    "    print(e)"
   ]
  },
  {
   "cell_type": "code",
   "execution_count": 14,
   "id": "58ce2034",
   "metadata": {},
   "outputs": [
    {
     "name": "stdout",
     "output_type": "stream",
     "text": [
      "january 100\n",
      "february 200\n",
      "march 300\n",
      "april 400\n",
      "may 500\n",
      "june 600\n",
      "july 700\n",
      "august 800\n",
      "september 900\n",
      "october 1000\n",
      "november 1100\n",
      "december 1200\n"
     ]
    }
   ],
   "source": [
    "for k,v in dist.items():\n",
    "    print(k,v)"
   ]
  },
  {
   "cell_type": "code",
   "execution_count": 15,
   "id": "522e0e1a",
   "metadata": {},
   "outputs": [
    {
     "name": "stdout",
     "output_type": "stream",
     "text": [
      "('january', '100')\n",
      "('february', '200')\n",
      "('march', '300')\n",
      "('april', '400')\n",
      "('may', '500')\n",
      "('june', '600')\n",
      "('july', '700')\n",
      "('august', '800')\n",
      "('september', '900')\n",
      "('october', '1000')\n",
      "('november', '1100')\n",
      "('december', '1200')\n",
      "<class 'tuple'>\n"
     ]
    }
   ],
   "source": [
    "for k in dist.items():\n",
    "    print(k)\n",
    "print(type(k))"
   ]
  },
  {
   "cell_type": "code",
   "execution_count": 16,
   "id": "700abc21",
   "metadata": {},
   "outputs": [],
   "source": [
    "a,b = (5,7)"
   ]
  },
  {
   "cell_type": "code",
   "execution_count": 17,
   "id": "a48d6bb6",
   "metadata": {},
   "outputs": [
    {
     "data": {
      "text/plain": [
       "5"
      ]
     },
     "execution_count": 17,
     "metadata": {},
     "output_type": "execute_result"
    }
   ],
   "source": [
    "a"
   ]
  },
  {
   "cell_type": "code",
   "execution_count": 18,
   "id": "0c31c9df",
   "metadata": {},
   "outputs": [
    {
     "data": {
      "text/plain": [
       "7"
      ]
     },
     "execution_count": 18,
     "metadata": {},
     "output_type": "execute_result"
    }
   ],
   "source": [
    "b"
   ]
  },
  {
   "cell_type": "code",
   "execution_count": 19,
   "id": "24d271d6",
   "metadata": {},
   "outputs": [],
   "source": [
    "a,b = 5,7"
   ]
  },
  {
   "cell_type": "code",
   "execution_count": 20,
   "id": "9b68098e",
   "metadata": {},
   "outputs": [
    {
     "data": {
      "text/plain": [
       "7"
      ]
     },
     "execution_count": 20,
     "metadata": {},
     "output_type": "execute_result"
    }
   ],
   "source": [
    "b"
   ]
  },
  {
   "cell_type": "code",
   "execution_count": 21,
   "id": "974c07bb",
   "metadata": {},
   "outputs": [],
   "source": [
    "x=y=0"
   ]
  },
  {
   "cell_type": "code",
   "execution_count": 22,
   "id": "a5a1ba08",
   "metadata": {},
   "outputs": [
    {
     "data": {
      "text/plain": [
       "0"
      ]
     },
     "execution_count": 22,
     "metadata": {},
     "output_type": "execute_result"
    }
   ],
   "source": [
    "y"
   ]
  },
  {
   "cell_type": "code",
   "execution_count": 23,
   "id": "1b1d80de",
   "metadata": {},
   "outputs": [
    {
     "data": {
      "text/plain": [
       "0"
      ]
     },
     "execution_count": 23,
     "metadata": {},
     "output_type": "execute_result"
    }
   ],
   "source": [
    "x"
   ]
  },
  {
   "cell_type": "code",
   "execution_count": 24,
   "id": "c0677603",
   "metadata": {},
   "outputs": [],
   "source": [
    "y=5"
   ]
  },
  {
   "cell_type": "code",
   "execution_count": 25,
   "id": "8968880c",
   "metadata": {},
   "outputs": [
    {
     "data": {
      "text/plain": [
       "0"
      ]
     },
     "execution_count": 25,
     "metadata": {},
     "output_type": "execute_result"
    }
   ],
   "source": [
    "x"
   ]
  },
  {
   "cell_type": "code",
   "execution_count": 26,
   "id": "5f00adf3",
   "metadata": {},
   "outputs": [
    {
     "ename": "SyntaxError",
     "evalue": "cannot assign to literal here. Maybe you meant '==' instead of '='? (1748595019.py, line 1)",
     "output_type": "error",
     "traceback": [
      "\u001b[1;36m  Cell \u001b[1;32mIn[26], line 1\u001b[1;36m\u001b[0m\n\u001b[1;33m    1=1\u001b[0m\n\u001b[1;37m    ^\u001b[0m\n\u001b[1;31mSyntaxError\u001b[0m\u001b[1;31m:\u001b[0m cannot assign to literal here. Maybe you meant '==' instead of '='?\n"
     ]
    }
   ],
   "source": [
    "1=1"
   ]
  },
  {
   "cell_type": "code",
   "execution_count": 27,
   "id": "cd429906",
   "metadata": {},
   "outputs": [
    {
     "name": "stdout",
     "output_type": "stream",
     "text": [
      "january\n",
      "february\n",
      "march\n",
      "april\n",
      "may\n",
      "june\n",
      "july\n",
      "august\n",
      "september\n",
      "october\n",
      "november\n",
      "december\n"
     ]
    }
   ],
   "source": [
    "for i in dist.keys():\n",
    "    print(i)"
   ]
  },
  {
   "cell_type": "code",
   "execution_count": 28,
   "id": "624fea1b",
   "metadata": {},
   "outputs": [
    {
     "name": "stdout",
     "output_type": "stream",
     "text": [
      "100\n",
      "200\n",
      "300\n",
      "400\n",
      "500\n",
      "600\n",
      "700\n",
      "800\n",
      "900\n",
      "1000\n",
      "1100\n",
      "1200\n"
     ]
    }
   ],
   "source": [
    "for i in dist.values():\n",
    "    print(i)"
   ]
  },
  {
   "cell_type": "code",
   "execution_count": 29,
   "id": "9b4ff655",
   "metadata": {},
   "outputs": [
    {
     "name": "stdout",
     "output_type": "stream",
     "text": [
      "('january', '100')\n",
      "('february', '200')\n",
      "('march', '300')\n",
      "('april', '400')\n",
      "('may', '500')\n",
      "('june', '600')\n",
      "('july', '700')\n",
      "('august', '800')\n",
      "('september', '900')\n",
      "('october', '1000')\n",
      "('november', '1100')\n",
      "('december', '1200')\n"
     ]
    }
   ],
   "source": [
    "for i in dist.items():\n",
    "    print(i)"
   ]
  },
  {
   "cell_type": "code",
   "execution_count": 30,
   "id": "c2606202",
   "metadata": {},
   "outputs": [
    {
     "name": "stdout",
     "output_type": "stream",
     "text": [
      "january\n",
      "february\n",
      "march\n",
      "april\n",
      "may\n",
      "june\n",
      "july\n",
      "august\n",
      "september\n",
      "october\n",
      "november\n",
      "december\n"
     ]
    }
   ],
   "source": [
    "for i in dist:\n",
    "    print(i)"
   ]
  },
  {
   "cell_type": "code",
   "execution_count": 31,
   "id": "e9b9d9a1",
   "metadata": {},
   "outputs": [],
   "source": [
    "dist[\"ekadashamber\"] = 1500"
   ]
  },
  {
   "cell_type": "code",
   "execution_count": 32,
   "id": "bd517d70",
   "metadata": {},
   "outputs": [
    {
     "data": {
      "text/plain": [
       "{'january': '100',\n",
       " 'february': '200',\n",
       " 'march': '300',\n",
       " 'april': '400',\n",
       " 'may': '500',\n",
       " 'june': '600',\n",
       " 'july': '700',\n",
       " 'august': '800',\n",
       " 'september': '900',\n",
       " 'october': '1000',\n",
       " 'november': '1100',\n",
       " 'december': '1200',\n",
       " 'ekadashamber': 1500}"
      ]
     },
     "execution_count": 32,
     "metadata": {},
     "output_type": "execute_result"
    }
   ],
   "source": [
    "dist"
   ]
  },
  {
   "cell_type": "code",
   "execution_count": 33,
   "id": "391f764a",
   "metadata": {},
   "outputs": [],
   "source": [
    "del dist[\"january\"]"
   ]
  },
  {
   "cell_type": "code",
   "execution_count": 34,
   "id": "93732a02",
   "metadata": {},
   "outputs": [
    {
     "data": {
      "text/plain": [
       "{'february': '200',\n",
       " 'march': '300',\n",
       " 'april': '400',\n",
       " 'may': '500',\n",
       " 'june': '600',\n",
       " 'july': '700',\n",
       " 'august': '800',\n",
       " 'september': '900',\n",
       " 'october': '1000',\n",
       " 'november': '1100',\n",
       " 'december': '1200',\n",
       " 'ekadashamber': 1500}"
      ]
     },
     "execution_count": 34,
     "metadata": {},
     "output_type": "execute_result"
    }
   ],
   "source": [
    "dist"
   ]
  },
  {
   "cell_type": "code",
   "execution_count": 35,
   "id": "fa334c12",
   "metadata": {},
   "outputs": [],
   "source": [
    "del dist"
   ]
  },
  {
   "cell_type": "code",
   "execution_count": 36,
   "id": "e77d0bd1",
   "metadata": {},
   "outputs": [
    {
     "ename": "NameError",
     "evalue": "name 'dist' is not defined",
     "output_type": "error",
     "traceback": [
      "\u001b[1;31m---------------------------------------------------------------------------\u001b[0m",
      "\u001b[1;31mNameError\u001b[0m                                 Traceback (most recent call last)",
      "Cell \u001b[1;32mIn[36], line 1\u001b[0m\n\u001b[1;32m----> 1\u001b[0m \u001b[43mdist\u001b[49m\n",
      "\u001b[1;31mNameError\u001b[0m: name 'dist' is not defined"
     ]
    }
   ],
   "source": [
    "dist"
   ]
  },
  {
   "cell_type": "code",
   "execution_count": 37,
   "id": "828bf147",
   "metadata": {},
   "outputs": [
    {
     "ename": "NameError",
     "evalue": "name 'dist' is not defined",
     "output_type": "error",
     "traceback": [
      "\u001b[1;31m---------------------------------------------------------------------------\u001b[0m",
      "\u001b[1;31mNameError\u001b[0m                                 Traceback (most recent call last)",
      "Cell \u001b[1;32mIn[37], line 1\u001b[0m\n\u001b[1;32m----> 1\u001b[0m \u001b[43mdist\u001b[49m\n",
      "\u001b[1;31mNameError\u001b[0m: name 'dist' is not defined"
     ]
    }
   ],
   "source": [
    "dist"
   ]
  },
  {
   "cell_type": "code",
   "execution_count": 38,
   "id": "47afe845",
   "metadata": {},
   "outputs": [],
   "source": [
    "array = [1,2,3,4]"
   ]
  },
  {
   "cell_type": "code",
   "execution_count": 39,
   "id": "c5e1211e",
   "metadata": {},
   "outputs": [
    {
     "data": {
      "text/plain": [
       "[1, 2, 3, 4]"
      ]
     },
     "execution_count": 39,
     "metadata": {},
     "output_type": "execute_result"
    }
   ],
   "source": [
    "array"
   ]
  },
  {
   "cell_type": "code",
   "execution_count": 40,
   "id": "dd3176f4",
   "metadata": {},
   "outputs": [],
   "source": [
    "del array"
   ]
  },
  {
   "cell_type": "code",
   "execution_count": 41,
   "id": "f34a7e4f",
   "metadata": {},
   "outputs": [
    {
     "ename": "NameError",
     "evalue": "name 'array' is not defined",
     "output_type": "error",
     "traceback": [
      "\u001b[1;31m---------------------------------------------------------------------------\u001b[0m",
      "\u001b[1;31mNameError\u001b[0m                                 Traceback (most recent call last)",
      "Cell \u001b[1;32mIn[41], line 1\u001b[0m\n\u001b[1;32m----> 1\u001b[0m \u001b[43marray\u001b[49m\n",
      "\u001b[1;31mNameError\u001b[0m: name 'array' is not defined"
     ]
    }
   ],
   "source": [
    "array"
   ]
  },
  {
   "cell_type": "code",
   "execution_count": 42,
   "id": "600c2375",
   "metadata": {},
   "outputs": [
    {
     "data": {
      "text/plain": [
       "[1, 2, 3, 4, 5]"
      ]
     },
     "execution_count": 42,
     "metadata": {},
     "output_type": "execute_result"
    }
   ],
   "source": [
    "brr = [1,2,3,4,5]\n",
    "brr"
   ]
  },
  {
   "cell_type": "code",
   "execution_count": 43,
   "id": "382f2576",
   "metadata": {},
   "outputs": [
    {
     "ename": "TypeError",
     "evalue": "cannot convert dictionary update sequence element #0 to a sequence",
     "output_type": "error",
     "traceback": [
      "\u001b[1;31m---------------------------------------------------------------------------\u001b[0m",
      "\u001b[1;31mTypeError\u001b[0m                                 Traceback (most recent call last)",
      "Cell \u001b[1;32mIn[43], line 1\u001b[0m\n\u001b[1;32m----> 1\u001b[0m drr \u001b[38;5;241m=\u001b[39m \u001b[38;5;28;43mdict\u001b[39;49m\u001b[43m(\u001b[49m\u001b[43mbrr\u001b[49m\u001b[43m)\u001b[49m\n",
      "\u001b[1;31mTypeError\u001b[0m: cannot convert dictionary update sequence element #0 to a sequence"
     ]
    }
   ],
   "source": [
    "drr = dict(brr)"
   ]
  },
  {
   "cell_type": "code",
   "execution_count": 44,
   "id": "35cd085c",
   "metadata": {},
   "outputs": [],
   "source": [
    "crr = [[1,2],[3,4]]\n",
    "distrr = dict(crr)"
   ]
  },
  {
   "cell_type": "code",
   "execution_count": 54,
   "id": "e30bba8d",
   "metadata": {},
   "outputs": [
    {
     "data": {
      "text/plain": [
       "{1: 2, 3: 4}"
      ]
     },
     "execution_count": 54,
     "metadata": {},
     "output_type": "execute_result"
    }
   ],
   "source": [
    "distrr"
   ]
  },
  {
   "cell_type": "code",
   "execution_count": 51,
   "id": "e4d6b310",
   "metadata": {},
   "outputs": [
    {
     "data": {
      "text/plain": [
       "dict"
      ]
     },
     "execution_count": 51,
     "metadata": {},
     "output_type": "execute_result"
    }
   ],
   "source": [
    "dict"
   ]
  },
  {
   "cell_type": "code",
   "execution_count": 52,
   "id": "d55d6d23",
   "metadata": {},
   "outputs": [
    {
     "data": {
      "text/plain": [
       "{1: 2, 3: 4}"
      ]
     },
     "execution_count": 52,
     "metadata": {},
     "output_type": "execute_result"
    }
   ],
   "source": [
    "distrr"
   ]
  },
  {
   "cell_type": "code",
   "execution_count": 55,
   "id": "1eba886f",
   "metadata": {},
   "outputs": [
    {
     "data": {
      "text/plain": [
       "2"
      ]
     },
     "execution_count": 55,
     "metadata": {},
     "output_type": "execute_result"
    }
   ],
   "source": [
    "distrr[1]"
   ]
  },
  {
   "cell_type": "code",
   "execution_count": 56,
   "id": "fffcec6e",
   "metadata": {},
   "outputs": [
    {
     "data": {
      "text/plain": [
       "2"
      ]
     },
     "execution_count": 56,
     "metadata": {},
     "output_type": "execute_result"
    }
   ],
   "source": [
    "distrr.get(1)"
   ]
  },
  {
   "cell_type": "code",
   "execution_count": 58,
   "id": "314eeda6",
   "metadata": {},
   "outputs": [
    {
     "name": "stdout",
     "output_type": "stream",
     "text": [
      "None\n"
     ]
    }
   ],
   "source": [
    "print(distrr.get(10))"
   ]
  },
  {
   "cell_type": "code",
   "execution_count": 59,
   "id": "e8d3b5a4",
   "metadata": {},
   "outputs": [
    {
     "data": {
      "text/plain": [
       "(dict_keys([1, 3]), dict_values([2, 4]), dict_items([(1, 2), (3, 4)]))"
      ]
     },
     "execution_count": 59,
     "metadata": {},
     "output_type": "execute_result"
    }
   ],
   "source": [
    "distrr.keys(), distrr.values(), distrr.items()"
   ]
  },
  {
   "cell_type": "code",
   "execution_count": 60,
   "id": "6eba6b58",
   "metadata": {},
   "outputs": [
    {
     "data": {
      "text/plain": [
       "dict_keys([1, 3])"
      ]
     },
     "execution_count": 60,
     "metadata": {},
     "output_type": "execute_result"
    }
   ],
   "source": [
    "distrr.keys()"
   ]
  },
  {
   "cell_type": "code",
   "execution_count": 61,
   "id": "15478bbf",
   "metadata": {},
   "outputs": [
    {
     "data": {
      "text/plain": [
       "dict_keys"
      ]
     },
     "execution_count": 61,
     "metadata": {},
     "output_type": "execute_result"
    }
   ],
   "source": [
    "type(distrr.keys())"
   ]
  },
  {
   "cell_type": "code",
   "execution_count": 62,
   "id": "62a5cb04",
   "metadata": {},
   "outputs": [
    {
     "data": {
      "text/plain": [
       "dict_items"
      ]
     },
     "execution_count": 62,
     "metadata": {},
     "output_type": "execute_result"
    }
   ],
   "source": [
    "type(distrr.items())"
   ]
  },
  {
   "cell_type": "code",
   "execution_count": null,
   "id": "51ada19c",
   "metadata": {},
   "outputs": [],
   "source": [
    "s"
   ]
  }
 ],
 "metadata": {
  "kernelspec": {
   "display_name": "Python 3 (ipykernel)",
   "language": "python",
   "name": "python3"
  },
  "language_info": {
   "codemirror_mode": {
    "name": "ipython",
    "version": 3
   },
   "file_extension": ".py",
   "mimetype": "text/x-python",
   "name": "python",
   "nbconvert_exporter": "python",
   "pygments_lexer": "ipython3",
   "version": "3.11.4"
  }
 },
 "nbformat": 4,
 "nbformat_minor": 5
}
