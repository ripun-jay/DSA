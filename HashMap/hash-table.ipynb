{
 "cells": [
  {
   "cell_type": "code",
   "execution_count": 1,
   "id": "d81694d6",
   "metadata": {},
   "outputs": [
    {
     "data": {
      "text/plain": [
       "{'january': '100',\n",
       " 'february': '200',\n",
       " 'march': '300',\n",
       " 'april': '400',\n",
       " 'may': '500',\n",
       " 'june': '600',\n",
       " 'july': '700',\n",
       " 'august': '800',\n",
       " 'september': '900',\n",
       " 'october': '1000',\n",
       " 'november': '1100',\n",
       " 'december': '1200'}"
      ]
     },
     "execution_count": 1,
     "metadata": {},
     "output_type": "execute_result"
    }
   ],
   "source": [
    "dist = {}\n",
    "with open(\"monthdata.csv\", \"r\") as f:\n",
    "    for line in f:\n",
    "        token = line.split(\",\")\n",
    "        month = token[0]\n",
    "        value = token[1].strip()\n",
    "        dist[month] = value\n",
    "dist"
   ]
  },
  {
   "cell_type": "code",
   "execution_count": 2,
   "id": "d52afa0b",
   "metadata": {},
   "outputs": [
    {
     "data": {
      "text/plain": [
       "[['january', '100'],\n",
       " ['february', '200'],\n",
       " ['march', '300'],\n",
       " ['april', '400'],\n",
       " ['may', '500'],\n",
       " ['june', '600'],\n",
       " ['july', '700'],\n",
       " ['august', '800'],\n",
       " ['september', '900'],\n",
       " ['october', '1000'],\n",
       " ['november', '1100'],\n",
       " ['december', '1200']]"
      ]
     },
     "execution_count": 2,
     "metadata": {},
     "output_type": "execute_result"
    }
   ],
   "source": [
    "data = []\n",
    "with open(\"monthdata.csv\", \"r\") as f:\n",
    "    for line in f:\n",
    "        token = line.split(\",\")\n",
    "        month = token[0]\n",
    "        value = token[1].strip()\n",
    "        data.append([month, value])\n",
    "data"
   ]
  },
  {
   "cell_type": "code",
   "execution_count": 12,
   "id": "e368b83a",
   "metadata": {},
   "outputs": [],
   "source": [
    "class HashTable:\n",
    "    def __init__(self):\n",
    "        self.max = 100\n",
    "        self.arr = [None for i in range(self.max)]\n",
    "        \n",
    "    def get_hash(self, key):\n",
    "        h = 0\n",
    "        for char in key:\n",
    "            h+= ord(char)\n",
    "        return h % 100\n",
    "    \n",
    "    def __setitem__(self, key, value):\n",
    "        h = self.get_hash(key)\n",
    "        self.arr[h] = value\n",
    "        \n",
    "    def __getitem__(self, key):\n",
    "        h = self.get_hash(key)\n",
    "        return self.arr[h]\n",
    "    \n",
    "    def __delitem__(self, key):\n",
    "        h = self.get_hash(key)\n",
    "        self.arr[h] = None\n",
    "        "
   ]
  },
  {
   "cell_type": "code",
   "execution_count": 13,
   "id": "15b94c26",
   "metadata": {},
   "outputs": [
    {
     "data": {
      "text/plain": [
       "[None,\n",
       " None,\n",
       " None,\n",
       " None,\n",
       " None,\n",
       " None,\n",
       " None,\n",
       " None,\n",
       " None,\n",
       " None,\n",
       " None,\n",
       " None,\n",
       " None,\n",
       " None,\n",
       " None,\n",
       " None,\n",
       " None,\n",
       " None,\n",
       " None,\n",
       " None,\n",
       " None,\n",
       " None,\n",
       " None,\n",
       " '1200',\n",
       " None,\n",
       " None,\n",
       " None,\n",
       " '500',\n",
       " None,\n",
       " None,\n",
       " None,\n",
       " None,\n",
       " None,\n",
       " None,\n",
       " '600',\n",
       " None,\n",
       " '400',\n",
       " None,\n",
       " None,\n",
       " None,\n",
       " None,\n",
       " None,\n",
       " None,\n",
       " None,\n",
       " None,\n",
       " None,\n",
       " None,\n",
       " None,\n",
       " None,\n",
       " None,\n",
       " '1000',\n",
       " None,\n",
       " '700',\n",
       " None,\n",
       " None,\n",
       " None,\n",
       " None,\n",
       " None,\n",
       " None,\n",
       " None,\n",
       " None,\n",
       " None,\n",
       " '1100',\n",
       " None,\n",
       " '200',\n",
       " '800',\n",
       " None,\n",
       " '900',\n",
       " None,\n",
       " None,\n",
       " None,\n",
       " None,\n",
       " None,\n",
       " None,\n",
       " None,\n",
       " None,\n",
       " None,\n",
       " None,\n",
       " None,\n",
       " None,\n",
       " None,\n",
       " None,\n",
       " None,\n",
       " None,\n",
       " None,\n",
       " None,\n",
       " None,\n",
       " None,\n",
       " None,\n",
       " None,\n",
       " None,\n",
       " None,\n",
       " None,\n",
       " None,\n",
       " None,\n",
       " None,\n",
       " None,\n",
       " None,\n",
       " None,\n",
       " None]"
      ]
     },
     "execution_count": 13,
     "metadata": {},
     "output_type": "execute_result"
    }
   ],
   "source": [
    "t = HashTable()\n",
    "t[\"january\"] = 100\n",
    "for arr in data:\n",
    "    t[arr[0]] = arr[1]\n",
    "t.arr"
   ]
  },
  {
   "cell_type": "code",
   "execution_count": 14,
   "id": "5d5e035e",
   "metadata": {},
   "outputs": [
    {
     "data": {
      "text/plain": [
       "'1100'"
      ]
     },
     "execution_count": 14,
     "metadata": {},
     "output_type": "execute_result"
    }
   ],
   "source": [
    "t[\"january\"]"
   ]
  },
  {
   "cell_type": "code",
   "execution_count": 15,
   "id": "c6a49b6d",
   "metadata": {},
   "outputs": [
    {
     "data": {
      "text/plain": [
       "'1200'"
      ]
     },
     "execution_count": 15,
     "metadata": {},
     "output_type": "execute_result"
    }
   ],
   "source": [
    "t[\"december\"]"
   ]
  },
  {
   "cell_type": "code",
   "execution_count": 17,
   "id": "3b401991",
   "metadata": {},
   "outputs": [
    {
     "data": {
      "text/plain": [
       "[None,\n",
       " None,\n",
       " None,\n",
       " None,\n",
       " None,\n",
       " None,\n",
       " None,\n",
       " None,\n",
       " None,\n",
       " None,\n",
       " None,\n",
       " None,\n",
       " None,\n",
       " None,\n",
       " None,\n",
       " None,\n",
       " None,\n",
       " None,\n",
       " None,\n",
       " None,\n",
       " None,\n",
       " None,\n",
       " None,\n",
       " None,\n",
       " None,\n",
       " None,\n",
       " None,\n",
       " '500',\n",
       " None,\n",
       " None,\n",
       " None,\n",
       " None,\n",
       " None,\n",
       " None,\n",
       " '600',\n",
       " None,\n",
       " '400',\n",
       " None,\n",
       " None,\n",
       " None,\n",
       " None,\n",
       " None,\n",
       " None,\n",
       " None,\n",
       " None,\n",
       " None,\n",
       " None,\n",
       " None,\n",
       " None,\n",
       " None,\n",
       " '1000',\n",
       " None,\n",
       " '700',\n",
       " None,\n",
       " None,\n",
       " None,\n",
       " None,\n",
       " None,\n",
       " None,\n",
       " None,\n",
       " None,\n",
       " None,\n",
       " '1100',\n",
       " None,\n",
       " '200',\n",
       " '800',\n",
       " None,\n",
       " '900',\n",
       " None,\n",
       " None,\n",
       " None,\n",
       " None,\n",
       " None,\n",
       " None,\n",
       " None,\n",
       " None,\n",
       " None,\n",
       " None,\n",
       " None,\n",
       " None,\n",
       " None,\n",
       " None,\n",
       " None,\n",
       " None,\n",
       " None,\n",
       " None,\n",
       " None,\n",
       " None,\n",
       " None,\n",
       " None,\n",
       " None,\n",
       " None,\n",
       " None,\n",
       " None,\n",
       " None,\n",
       " None,\n",
       " None,\n",
       " None,\n",
       " None,\n",
       " None]"
      ]
     },
     "execution_count": 17,
     "metadata": {},
     "output_type": "execute_result"
    }
   ],
   "source": [
    "del t[\"december\"]\n",
    "t.arr"
   ]
  },
  {
   "cell_type": "code",
   "execution_count": 6,
   "id": "12e48983",
   "metadata": {},
   "outputs": [
    {
     "data": {
      "text/plain": [
       "'1200'"
      ]
     },
     "execution_count": 6,
     "metadata": {},
     "output_type": "execute_result"
    }
   ],
   "source": [
    "t[\"march\"]"
   ]
  },
  {
   "cell_type": "code",
   "execution_count": 18,
   "id": "90135979",
   "metadata": {},
   "outputs": [
    {
     "ename": "TypeError",
     "evalue": "'int' object is not iterable",
     "output_type": "error",
     "traceback": [
      "\u001b[1;31m---------------------------------------------------------------------------\u001b[0m",
      "\u001b[1;31mTypeError\u001b[0m                                 Traceback (most recent call last)",
      "Cell \u001b[1;32mIn[18], line 1\u001b[0m\n\u001b[1;32m----> 1\u001b[0m \u001b[38;5;28;01mfor\u001b[39;00m i \u001b[38;5;129;01min\u001b[39;00m t:\n\u001b[0;32m      2\u001b[0m     \u001b[38;5;28mprint\u001b[39m(i)\n",
      "Cell \u001b[1;32mIn[12], line 17\u001b[0m, in \u001b[0;36mHashTable.__getitem__\u001b[1;34m(self, key)\u001b[0m\n\u001b[0;32m     16\u001b[0m \u001b[38;5;28;01mdef\u001b[39;00m \u001b[38;5;21m__getitem__\u001b[39m(\u001b[38;5;28mself\u001b[39m, key):\n\u001b[1;32m---> 17\u001b[0m     h \u001b[38;5;241m=\u001b[39m \u001b[38;5;28;43mself\u001b[39;49m\u001b[38;5;241;43m.\u001b[39;49m\u001b[43mget_hash\u001b[49m\u001b[43m(\u001b[49m\u001b[43mkey\u001b[49m\u001b[43m)\u001b[49m\n\u001b[0;32m     18\u001b[0m     \u001b[38;5;28;01mreturn\u001b[39;00m \u001b[38;5;28mself\u001b[39m\u001b[38;5;241m.\u001b[39marr[h]\n",
      "Cell \u001b[1;32mIn[12], line 8\u001b[0m, in \u001b[0;36mHashTable.get_hash\u001b[1;34m(self, key)\u001b[0m\n\u001b[0;32m      6\u001b[0m \u001b[38;5;28;01mdef\u001b[39;00m \u001b[38;5;21mget_hash\u001b[39m(\u001b[38;5;28mself\u001b[39m, key):\n\u001b[0;32m      7\u001b[0m     h \u001b[38;5;241m=\u001b[39m \u001b[38;5;241m0\u001b[39m\n\u001b[1;32m----> 8\u001b[0m     \u001b[38;5;28;01mfor\u001b[39;00m char \u001b[38;5;129;01min\u001b[39;00m key:\n\u001b[0;32m      9\u001b[0m         h\u001b[38;5;241m+\u001b[39m\u001b[38;5;241m=\u001b[39m \u001b[38;5;28mord\u001b[39m(char)\n\u001b[0;32m     10\u001b[0m     \u001b[38;5;28;01mreturn\u001b[39;00m h \u001b[38;5;241m%\u001b[39m \u001b[38;5;241m100\u001b[39m\n",
      "\u001b[1;31mTypeError\u001b[0m: 'int' object is not iterable"
     ]
    }
   ],
   "source": [
    "for i in t:\n",
    "    print(i)"
   ]
  },
  {
   "cell_type": "code",
   "execution_count": 7,
   "id": "f7127f50",
   "metadata": {},
   "outputs": [],
   "source": [
    "prices = [1,2,3,4]"
   ]
  },
  {
   "cell_type": "code",
   "execution_count": 8,
   "id": "077363c3",
   "metadata": {},
   "outputs": [
    {
     "data": {
      "text/plain": [
       "['r', 2, 3, 4]"
      ]
     },
     "execution_count": 8,
     "metadata": {},
     "output_type": "execute_result"
    }
   ],
   "source": [
    "prices.__setitem__(0,\"r\")\n",
    "prices"
   ]
  },
  {
   "cell_type": "code",
   "execution_count": 9,
   "id": "00bf3646",
   "metadata": {},
   "outputs": [
    {
     "data": {
      "text/plain": [
       "4"
      ]
     },
     "execution_count": 9,
     "metadata": {},
     "output_type": "execute_result"
    }
   ],
   "source": [
    "prices.__getitem__(-1)"
   ]
  },
  {
   "cell_type": "code",
   "execution_count": 10,
   "id": "2718a75d",
   "metadata": {},
   "outputs": [
    {
     "data": {
      "text/plain": [
       "{'january': '100',\n",
       " 'february': '200',\n",
       " 'march': '300',\n",
       " 'april': '400',\n",
       " 'may': '500',\n",
       " 'june': '600',\n",
       " 'july': '700',\n",
       " 'august': '800',\n",
       " 'september': '900',\n",
       " 'october': '1000',\n",
       " 'november': '1100',\n",
       " 'december': '1200'}"
      ]
     },
     "execution_count": 10,
     "metadata": {},
     "output_type": "execute_result"
    }
   ],
   "source": [
    "dist"
   ]
  },
  {
   "cell_type": "code",
   "execution_count": 11,
   "id": "6b632fea",
   "metadata": {},
   "outputs": [
    {
     "ename": "KeyError",
     "evalue": "3",
     "output_type": "error",
     "traceback": [
      "\u001b[1;31m---------------------------------------------------------------------------\u001b[0m",
      "\u001b[1;31mKeyError\u001b[0m                                  Traceback (most recent call last)",
      "Cell \u001b[1;32mIn[11], line 1\u001b[0m\n\u001b[1;32m----> 1\u001b[0m \u001b[43mdist\u001b[49m\u001b[43m[\u001b[49m\u001b[38;5;241;43m3\u001b[39;49m\u001b[43m]\u001b[49m\n",
      "\u001b[1;31mKeyError\u001b[0m: 3"
     ]
    }
   ],
   "source": [
    "dist[3]"
   ]
  },
  {
   "cell_type": "code",
   "execution_count": null,
   "id": "eb943666",
   "metadata": {},
   "outputs": [],
   "source": [
    "dist[\"july\"]"
   ]
  },
  {
   "cell_type": "code",
   "execution_count": null,
   "id": "34da8679",
   "metadata": {},
   "outputs": [],
   "source": [
    "for e in dist:\n",
    "    print(e)"
   ]
  },
  {
   "cell_type": "code",
   "execution_count": null,
   "id": "58ce2034",
   "metadata": {},
   "outputs": [],
   "source": [
    "for k,v in dist.items():\n",
    "    print(k,v)"
   ]
  },
  {
   "cell_type": "code",
   "execution_count": null,
   "id": "522e0e1a",
   "metadata": {},
   "outputs": [],
   "source": [
    "for k in dist.items():\n",
    "    print(k)\n",
    "print(type(k))"
   ]
  },
  {
   "cell_type": "code",
   "execution_count": null,
   "id": "700abc21",
   "metadata": {},
   "outputs": [],
   "source": [
    "a,b = (5,7)"
   ]
  },
  {
   "cell_type": "code",
   "execution_count": null,
   "id": "a48d6bb6",
   "metadata": {},
   "outputs": [],
   "source": [
    "a"
   ]
  },
  {
   "cell_type": "code",
   "execution_count": null,
   "id": "0c31c9df",
   "metadata": {},
   "outputs": [],
   "source": [
    "b"
   ]
  },
  {
   "cell_type": "code",
   "execution_count": null,
   "id": "24d271d6",
   "metadata": {},
   "outputs": [],
   "source": [
    "a,b = 5,7"
   ]
  },
  {
   "cell_type": "code",
   "execution_count": null,
   "id": "9b68098e",
   "metadata": {},
   "outputs": [],
   "source": [
    "b"
   ]
  },
  {
   "cell_type": "code",
   "execution_count": null,
   "id": "974c07bb",
   "metadata": {},
   "outputs": [],
   "source": [
    "x=y=0"
   ]
  },
  {
   "cell_type": "code",
   "execution_count": null,
   "id": "a5a1ba08",
   "metadata": {},
   "outputs": [],
   "source": [
    "y"
   ]
  },
  {
   "cell_type": "code",
   "execution_count": null,
   "id": "1b1d80de",
   "metadata": {},
   "outputs": [],
   "source": [
    "x"
   ]
  },
  {
   "cell_type": "code",
   "execution_count": null,
   "id": "c0677603",
   "metadata": {},
   "outputs": [],
   "source": [
    "y=5"
   ]
  },
  {
   "cell_type": "code",
   "execution_count": null,
   "id": "8968880c",
   "metadata": {},
   "outputs": [],
   "source": [
    "x"
   ]
  },
  {
   "cell_type": "code",
   "execution_count": null,
   "id": "5f00adf3",
   "metadata": {},
   "outputs": [],
   "source": [
    "1=1"
   ]
  },
  {
   "cell_type": "code",
   "execution_count": null,
   "id": "cd429906",
   "metadata": {},
   "outputs": [],
   "source": [
    "for i in dist.keys():\n",
    "    print(i)"
   ]
  },
  {
   "cell_type": "code",
   "execution_count": null,
   "id": "624fea1b",
   "metadata": {},
   "outputs": [],
   "source": [
    "for i in dist.values():\n",
    "    print(i)"
   ]
  },
  {
   "cell_type": "code",
   "execution_count": null,
   "id": "9b4ff655",
   "metadata": {},
   "outputs": [],
   "source": [
    "for i in dist.items():\n",
    "    print(i)"
   ]
  },
  {
   "cell_type": "code",
   "execution_count": null,
   "id": "c2606202",
   "metadata": {},
   "outputs": [],
   "source": [
    "for i in dist:\n",
    "    print(i)"
   ]
  },
  {
   "cell_type": "code",
   "execution_count": null,
   "id": "e9b9d9a1",
   "metadata": {},
   "outputs": [],
   "source": [
    "dist[\"ekadashamber\"] = 1500"
   ]
  },
  {
   "cell_type": "code",
   "execution_count": null,
   "id": "bd517d70",
   "metadata": {},
   "outputs": [],
   "source": [
    "dist"
   ]
  },
  {
   "cell_type": "code",
   "execution_count": null,
   "id": "391f764a",
   "metadata": {},
   "outputs": [],
   "source": [
    "del dist[\"january\"]"
   ]
  },
  {
   "cell_type": "code",
   "execution_count": null,
   "id": "93732a02",
   "metadata": {},
   "outputs": [],
   "source": [
    "dist"
   ]
  },
  {
   "cell_type": "code",
   "execution_count": null,
   "id": "fa334c12",
   "metadata": {},
   "outputs": [],
   "source": [
    "del dist"
   ]
  },
  {
   "cell_type": "code",
   "execution_count": null,
   "id": "e77d0bd1",
   "metadata": {},
   "outputs": [],
   "source": [
    "dist"
   ]
  },
  {
   "cell_type": "code",
   "execution_count": null,
   "id": "828bf147",
   "metadata": {},
   "outputs": [],
   "source": [
    "dist"
   ]
  },
  {
   "cell_type": "code",
   "execution_count": null,
   "id": "47afe845",
   "metadata": {},
   "outputs": [],
   "source": [
    "array = [1,2,3,4]"
   ]
  },
  {
   "cell_type": "code",
   "execution_count": null,
   "id": "c5e1211e",
   "metadata": {},
   "outputs": [],
   "source": [
    "array"
   ]
  },
  {
   "cell_type": "code",
   "execution_count": null,
   "id": "dd3176f4",
   "metadata": {},
   "outputs": [],
   "source": [
    "del array"
   ]
  },
  {
   "cell_type": "code",
   "execution_count": null,
   "id": "f34a7e4f",
   "metadata": {},
   "outputs": [],
   "source": [
    "array"
   ]
  },
  {
   "cell_type": "code",
   "execution_count": null,
   "id": "600c2375",
   "metadata": {},
   "outputs": [],
   "source": [
    "brr = [1,2,3,4,5]\n",
    "brr"
   ]
  },
  {
   "cell_type": "code",
   "execution_count": null,
   "id": "382f2576",
   "metadata": {},
   "outputs": [],
   "source": [
    "drr = dict(brr)"
   ]
  },
  {
   "cell_type": "code",
   "execution_count": null,
   "id": "35cd085c",
   "metadata": {},
   "outputs": [],
   "source": [
    "crr = [[1,2],[3,4]]\n",
    "distrr = dict(crr)"
   ]
  },
  {
   "cell_type": "code",
   "execution_count": null,
   "id": "e30bba8d",
   "metadata": {},
   "outputs": [],
   "source": [
    "distrr"
   ]
  },
  {
   "cell_type": "code",
   "execution_count": null,
   "id": "e4d6b310",
   "metadata": {},
   "outputs": [],
   "source": [
    "dict"
   ]
  },
  {
   "cell_type": "code",
   "execution_count": null,
   "id": "d55d6d23",
   "metadata": {},
   "outputs": [],
   "source": [
    "distrr"
   ]
  },
  {
   "cell_type": "code",
   "execution_count": null,
   "id": "1eba886f",
   "metadata": {},
   "outputs": [],
   "source": [
    "distrr[1]"
   ]
  },
  {
   "cell_type": "code",
   "execution_count": null,
   "id": "fffcec6e",
   "metadata": {},
   "outputs": [],
   "source": [
    "distrr.get(1)"
   ]
  },
  {
   "cell_type": "code",
   "execution_count": null,
   "id": "314eeda6",
   "metadata": {},
   "outputs": [],
   "source": [
    "print(distrr.get(10))"
   ]
  },
  {
   "cell_type": "code",
   "execution_count": null,
   "id": "e8d3b5a4",
   "metadata": {},
   "outputs": [],
   "source": [
    "distrr.keys(), distrr.values(), distrr.items()"
   ]
  },
  {
   "cell_type": "code",
   "execution_count": null,
   "id": "6eba6b58",
   "metadata": {},
   "outputs": [],
   "source": [
    "distrr.keys()"
   ]
  },
  {
   "cell_type": "code",
   "execution_count": null,
   "id": "15478bbf",
   "metadata": {},
   "outputs": [],
   "source": [
    "type(distrr.keys())"
   ]
  },
  {
   "cell_type": "code",
   "execution_count": null,
   "id": "62a5cb04",
   "metadata": {},
   "outputs": [],
   "source": [
    "type(distrr.items())"
   ]
  },
  {
   "cell_type": "code",
   "execution_count": null,
   "id": "51ada19c",
   "metadata": {},
   "outputs": [],
   "source": [
    "s"
   ]
  }
 ],
 "metadata": {
  "kernelspec": {
   "display_name": "Python 3 (ipykernel)",
   "language": "python",
   "name": "python3"
  },
  "language_info": {
   "codemirror_mode": {
    "name": "ipython",
    "version": 3
   },
   "file_extension": ".py",
   "mimetype": "text/x-python",
   "name": "python",
   "nbconvert_exporter": "python",
   "pygments_lexer": "ipython3",
   "version": "3.11.4"
  }
 },
 "nbformat": 4,
 "nbformat_minor": 5
}
