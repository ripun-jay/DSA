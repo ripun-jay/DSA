{
 "cells": [
  {
   "cell_type": "code",
   "execution_count": 4,
   "id": "d81694d6",
   "metadata": {},
   "outputs": [
    {
     "data": {
      "text/plain": [
       "{'january': '100',\n",
       " 'february': '200',\n",
       " 'march': '300',\n",
       " 'april': '400',\n",
       " 'may': '500',\n",
       " 'june': '600',\n",
       " 'july': '700',\n",
       " 'august': '800',\n",
       " 'september': '900',\n",
       " 'october': '1000',\n",
       " 'november': '1100',\n",
       " 'december': '1200'}"
      ]
     },
     "execution_count": 4,
     "metadata": {},
     "output_type": "execute_result"
    }
   ],
   "source": [
    "dist = {}\n",
    "with open(\"monthdata.csv\", \"r\") as f:\n",
    "    for line in f:\n",
    "        token = line.split(\",\")\n",
    "        month = token[0]\n",
    "        value = token[1].strip()\n",
    "        dist[month] = value\n",
    "dist"
   ]
  },
  {
   "cell_type": "code",
   "execution_count": 9,
   "id": "d52afa0b",
   "metadata": {},
   "outputs": [
    {
     "data": {
      "text/plain": [
       "[['january', '100'],\n",
       " ['february', '200'],\n",
       " ['march', '300'],\n",
       " ['april', '400'],\n",
       " ['may', '500'],\n",
       " ['june', '600'],\n",
       " ['july', '700'],\n",
       " ['august', '800'],\n",
       " ['september', '900'],\n",
       " ['october', '1000'],\n",
       " ['november', '1100'],\n",
       " ['december', '1200']]"
      ]
     },
     "execution_count": 9,
     "metadata": {},
     "output_type": "execute_result"
    }
   ],
   "source": [
    "data = []\n",
    "with open(\"monthdata.csv\", \"r\") as f:\n",
    "    for line in f:\n",
    "        token = line.split(\",\")\n",
    "        month = token[0]\n",
    "        value = token[1].strip()\n",
    "        data.append([month, value])\n",
    "data"
   ]
  },
  {
   "cell_type": "code",
   "execution_count": 10,
   "id": "e368b83a",
   "metadata": {},
   "outputs": [],
   "source": [
    "class HashTable:\n",
    "    def __init__(self):\n",
    "        self.max = 100\n",
    "        self.arr = [None for i in range(self.max)]\n",
    "        \n",
    "    def get_hash(self, key):\n",
    "        h = 0\n",
    "        for char in key:\n",
    "            h+= ord(char)\n",
    "        return h % 100\n",
    "    \n",
    "    def __setitem__(self, key, value):\n",
    "        h = self.get_hash(key)\n",
    "        self.arr[h] = value\n",
    "        \n",
    "    def __getitem__(self, key):\n",
    "        h = self.get_hash(key)\n",
    "        return self.arr[h]\n",
    "        "
   ]
  },
  {
   "cell_type": "code",
   "execution_count": 15,
   "id": "15b94c26",
   "metadata": {},
   "outputs": [
    {
     "data": {
      "text/plain": [
       "[None,\n",
       " None,\n",
       " None,\n",
       " None,\n",
       " None,\n",
       " None,\n",
       " None,\n",
       " None,\n",
       " None,\n",
       " None,\n",
       " None,\n",
       " None,\n",
       " None,\n",
       " None,\n",
       " None,\n",
       " None,\n",
       " None,\n",
       " None,\n",
       " None,\n",
       " None,\n",
       " None,\n",
       " None,\n",
       " None,\n",
       " '1200',\n",
       " None,\n",
       " None,\n",
       " None,\n",
       " '500',\n",
       " None,\n",
       " None,\n",
       " None,\n",
       " None,\n",
       " None,\n",
       " None,\n",
       " '600',\n",
       " None,\n",
       " '400',\n",
       " None,\n",
       " None,\n",
       " None,\n",
       " None,\n",
       " None,\n",
       " None,\n",
       " None,\n",
       " None,\n",
       " None,\n",
       " None,\n",
       " None,\n",
       " None,\n",
       " None,\n",
       " '1000',\n",
       " None,\n",
       " '700',\n",
       " None,\n",
       " None,\n",
       " None,\n",
       " None,\n",
       " None,\n",
       " None,\n",
       " None,\n",
       " None,\n",
       " None,\n",
       " '1100',\n",
       " None,\n",
       " '200',\n",
       " '800',\n",
       " None,\n",
       " '900',\n",
       " None,\n",
       " None,\n",
       " None,\n",
       " None,\n",
       " None,\n",
       " None,\n",
       " None,\n",
       " None,\n",
       " None,\n",
       " None,\n",
       " None,\n",
       " None,\n",
       " None,\n",
       " None,\n",
       " None,\n",
       " None,\n",
       " None,\n",
       " None,\n",
       " None,\n",
       " None,\n",
       " None,\n",
       " None,\n",
       " None,\n",
       " None,\n",
       " None,\n",
       " None,\n",
       " None,\n",
       " None,\n",
       " None,\n",
       " None,\n",
       " None,\n",
       " None]"
      ]
     },
     "execution_count": 15,
     "metadata": {},
     "output_type": "execute_result"
    }
   ],
   "source": [
    "t = HashTable()\n",
    "t[\"january\"] = 100\n",
    "for arr in data:\n",
    "    t[arr[0]] = arr[1]\n",
    "t.arr"
   ]
  },
  {
   "cell_type": "code",
   "execution_count": 13,
   "id": "5d5e035e",
   "metadata": {},
   "outputs": [
    {
     "data": {
      "text/plain": [
       "100"
      ]
     },
     "execution_count": 13,
     "metadata": {},
     "output_type": "execute_result"
    }
   ],
   "source": [
    "t[\"january\"]"
   ]
  },
  {
   "cell_type": "code",
   "execution_count": 16,
   "id": "12e48983",
   "metadata": {},
   "outputs": [
    {
     "data": {
      "text/plain": [
       "'1200'"
      ]
     },
     "execution_count": 16,
     "metadata": {},
     "output_type": "execute_result"
    }
   ],
   "source": [
    "t[\"march\"]"
   ]
  },
  {
   "cell_type": "code",
   "execution_count": 1,
   "id": "f7127f50",
   "metadata": {},
   "outputs": [],
   "source": [
    "prices = [1,2,3,4]"
   ]
  },
  {
   "cell_type": "code",
   "execution_count": 2,
   "id": "077363c3",
   "metadata": {},
   "outputs": [
    {
     "data": {
      "text/plain": [
       "['r', 2, 3, 4]"
      ]
     },
     "execution_count": 2,
     "metadata": {},
     "output_type": "execute_result"
    }
   ],
   "source": [
    "prices.__setitem__(0,\"r\")\n",
    "prices"
   ]
  },
  {
   "cell_type": "code",
   "execution_count": 3,
   "id": "00bf3646",
   "metadata": {},
   "outputs": [
    {
     "data": {
      "text/plain": [
       "4"
      ]
     },
     "execution_count": 3,
     "metadata": {},
     "output_type": "execute_result"
    }
   ],
   "source": [
    "prices.__getitem__(-1)"
   ]
  },
  {
   "cell_type": "code",
   "execution_count": 6,
   "id": "2718a75d",
   "metadata": {},
   "outputs": [
    {
     "data": {
      "text/plain": [
       "{'january': '100',\n",
       " 'february': '200',\n",
       " 'march': '300',\n",
       " 'april': '400',\n",
       " 'may': '500',\n",
       " 'june': '600',\n",
       " 'july': '700',\n",
       " 'august': '800',\n",
       " 'september': '900',\n",
       " 'october': '1000',\n",
       " 'november': '1100',\n",
       " 'december': '1200'}"
      ]
     },
     "execution_count": 6,
     "metadata": {},
     "output_type": "execute_result"
    }
   ],
   "source": [
    "dist"
   ]
  },
  {
   "cell_type": "code",
   "execution_count": 9,
   "id": "6b632fea",
   "metadata": {},
   "outputs": [
    {
     "ename": "KeyError",
     "evalue": "3",
     "output_type": "error",
     "traceback": [
      "\u001b[1;31m---------------------------------------------------------------------------\u001b[0m",
      "\u001b[1;31mKeyError\u001b[0m                                  Traceback (most recent call last)",
      "Cell \u001b[1;32mIn[9], line 1\u001b[0m\n\u001b[1;32m----> 1\u001b[0m \u001b[43mdist\u001b[49m\u001b[43m[\u001b[49m\u001b[38;5;241;43m3\u001b[39;49m\u001b[43m]\u001b[49m\n",
      "\u001b[1;31mKeyError\u001b[0m: 3"
     ]
    }
   ],
   "source": [
    "dist[3]"
   ]
  },
  {
   "cell_type": "code",
   "execution_count": 10,
   "id": "eb943666",
   "metadata": {},
   "outputs": [
    {
     "data": {
      "text/plain": [
       "'700'"
      ]
     },
     "execution_count": 10,
     "metadata": {},
     "output_type": "execute_result"
    }
   ],
   "source": [
    "dist[\"july\"]"
   ]
  },
  {
   "cell_type": "code",
   "execution_count": 11,
   "id": "34da8679",
   "metadata": {},
   "outputs": [
    {
     "name": "stdout",
     "output_type": "stream",
     "text": [
      "january\n",
      "february\n",
      "march\n",
      "april\n",
      "may\n",
      "june\n",
      "july\n",
      "august\n",
      "september\n",
      "october\n",
      "november\n",
      "december\n"
     ]
    }
   ],
   "source": [
    "for e in dist:\n",
    "    print(e)"
   ]
  },
  {
   "cell_type": "code",
   "execution_count": 14,
   "id": "58ce2034",
   "metadata": {},
   "outputs": [
    {
     "name": "stdout",
     "output_type": "stream",
     "text": [
      "january 100\n",
      "february 200\n",
      "march 300\n",
      "april 400\n",
      "may 500\n",
      "june 600\n",
      "july 700\n",
      "august 800\n",
      "september 900\n",
      "october 1000\n",
      "november 1100\n",
      "december 1200\n"
     ]
    }
   ],
   "source": [
    "for k,v in dist.items():\n",
    "    print(k,v)"
   ]
  },
  {
   "cell_type": "code",
   "execution_count": 17,
   "id": "522e0e1a",
   "metadata": {},
   "outputs": [
    {
     "name": "stdout",
     "output_type": "stream",
     "text": [
      "('january', '100')\n",
      "('february', '200')\n",
      "('march', '300')\n",
      "('april', '400')\n",
      "('may', '500')\n",
      "('june', '600')\n",
      "('july', '700')\n",
      "('august', '800')\n",
      "('september', '900')\n",
      "('october', '1000')\n",
      "('november', '1100')\n",
      "('december', '1200')\n",
      "<class 'tuple'>\n"
     ]
    }
   ],
   "source": [
    "for k in dist.items():\n",
    "    print(k)\n",
    "print(type(k))"
   ]
  },
  {
   "cell_type": "code",
   "execution_count": 18,
   "id": "700abc21",
   "metadata": {},
   "outputs": [],
   "source": [
    "a,b = (5,7)"
   ]
  },
  {
   "cell_type": "code",
   "execution_count": 19,
   "id": "a48d6bb6",
   "metadata": {},
   "outputs": [
    {
     "data": {
      "text/plain": [
       "5"
      ]
     },
     "execution_count": 19,
     "metadata": {},
     "output_type": "execute_result"
    }
   ],
   "source": [
    "a"
   ]
  },
  {
   "cell_type": "code",
   "execution_count": 20,
   "id": "0c31c9df",
   "metadata": {},
   "outputs": [
    {
     "data": {
      "text/plain": [
       "7"
      ]
     },
     "execution_count": 20,
     "metadata": {},
     "output_type": "execute_result"
    }
   ],
   "source": [
    "b"
   ]
  },
  {
   "cell_type": "code",
   "execution_count": 21,
   "id": "24d271d6",
   "metadata": {},
   "outputs": [],
   "source": [
    "a,b = 5,7"
   ]
  },
  {
   "cell_type": "code",
   "execution_count": 22,
   "id": "9b68098e",
   "metadata": {},
   "outputs": [
    {
     "data": {
      "text/plain": [
       "7"
      ]
     },
     "execution_count": 22,
     "metadata": {},
     "output_type": "execute_result"
    }
   ],
   "source": [
    "b"
   ]
  },
  {
   "cell_type": "code",
   "execution_count": 23,
   "id": "974c07bb",
   "metadata": {},
   "outputs": [],
   "source": [
    "x=y=0"
   ]
  },
  {
   "cell_type": "code",
   "execution_count": 24,
   "id": "a5a1ba08",
   "metadata": {},
   "outputs": [
    {
     "data": {
      "text/plain": [
       "0"
      ]
     },
     "execution_count": 24,
     "metadata": {},
     "output_type": "execute_result"
    }
   ],
   "source": [
    "y"
   ]
  },
  {
   "cell_type": "code",
   "execution_count": 25,
   "id": "1b1d80de",
   "metadata": {},
   "outputs": [
    {
     "data": {
      "text/plain": [
       "0"
      ]
     },
     "execution_count": 25,
     "metadata": {},
     "output_type": "execute_result"
    }
   ],
   "source": [
    "x"
   ]
  },
  {
   "cell_type": "code",
   "execution_count": 26,
   "id": "c0677603",
   "metadata": {},
   "outputs": [],
   "source": [
    "y=5"
   ]
  },
  {
   "cell_type": "code",
   "execution_count": 27,
   "id": "8968880c",
   "metadata": {},
   "outputs": [
    {
     "data": {
      "text/plain": [
       "0"
      ]
     },
     "execution_count": 27,
     "metadata": {},
     "output_type": "execute_result"
    }
   ],
   "source": [
    "x"
   ]
  },
  {
   "cell_type": "code",
   "execution_count": 30,
   "id": "5f00adf3",
   "metadata": {},
   "outputs": [
    {
     "ename": "SyntaxError",
     "evalue": "cannot assign to literal here. Maybe you meant '==' instead of '='? (1748595019.py, line 1)",
     "output_type": "error",
     "traceback": [
      "\u001b[1;36m  Cell \u001b[1;32mIn[30], line 1\u001b[1;36m\u001b[0m\n\u001b[1;33m    1=1\u001b[0m\n\u001b[1;37m    ^\u001b[0m\n\u001b[1;31mSyntaxError\u001b[0m\u001b[1;31m:\u001b[0m cannot assign to literal here. Maybe you meant '==' instead of '='?\n"
     ]
    }
   ],
   "source": [
    "1=1"
   ]
  },
  {
   "cell_type": "code",
   "execution_count": null,
   "id": "cd429906",
   "metadata": {},
   "outputs": [],
   "source": []
  }
 ],
 "metadata": {
  "kernelspec": {
   "display_name": "Python 3 (ipykernel)",
   "language": "python",
   "name": "python3"
  },
  "language_info": {
   "codemirror_mode": {
    "name": "ipython",
    "version": 3
   },
   "file_extension": ".py",
   "mimetype": "text/x-python",
   "name": "python",
   "nbconvert_exporter": "python",
   "pygments_lexer": "ipython3",
   "version": "3.11.4"
  }
 },
 "nbformat": 4,
 "nbformat_minor": 5
}
