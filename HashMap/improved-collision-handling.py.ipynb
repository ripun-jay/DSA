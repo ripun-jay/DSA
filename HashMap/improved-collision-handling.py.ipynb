{
 "cells": [
  {
   "cell_type": "code",
   "execution_count": 1,
   "id": "a9a20dab",
   "metadata": {},
   "outputs": [],
   "source": [
    "class HashTable:\n",
    "    \n",
    "    def __init__(self):\n",
    "        self.max = 10\n",
    "        self.arr = [[] for i in range(self.max)]\n",
    "        \n",
    "        \n",
    "    def get_hash(self, key):\n",
    "        hash = 0\n",
    "        for char in key:\n",
    "            hash+=ord(char)\n",
    "        return hash % self.max\n",
    "    \n",
    "    \n",
    "    def __setitem__(self, key, value):\n",
    "        h = self.get_hash(key)\n",
    "        for element in self.arr[h]:\n",
    "            if element[0] == key:\n",
    "                element[1] = value\n",
    "                break\n",
    "        else:\n",
    "            self.arr[h].append([key,value])\n",
    "            \n",
    "    \n",
    "    def __getitem__(self,key):\n",
    "        h = self.get_hash(key)\n",
    "        for element in self.arr[h]:\n",
    "            if element[0] ==key:\n",
    "                return element[1]\n",
    "            \n",
    "    def __delitem__(self,key):\n",
    "        h = self.get_hash(key)\n",
    "        for idx, element in enumerate(self.arr[h]):\n",
    "            if element[0] == key:\n",
    "                del self.arr[h][idx]\n",
    "        "
   ]
  },
  {
   "cell_type": "code",
   "execution_count": 2,
   "id": "597a22a4",
   "metadata": {},
   "outputs": [],
   "source": [
    "t = HashTable()"
   ]
  },
  {
   "cell_type": "code",
   "execution_count": 3,
   "id": "6e00d7a1",
   "metadata": {},
   "outputs": [],
   "source": [
    "t[\"abc\"] = 1\n",
    "t[\"bca\"] = 2\n",
    "t[\"ab\"] = 3\n",
    "t[\"bc\"] = 4"
   ]
  },
  {
   "cell_type": "code",
   "execution_count": 4,
   "id": "6cf704fc",
   "metadata": {},
   "outputs": [
    {
     "data": {
      "text/plain": [
       "[[],\n",
       " [],\n",
       " [],\n",
       " [],\n",
       " [['abc', 1], ['bca', 2]],\n",
       " [['ab', 3]],\n",
       " [],\n",
       " [['bc', 4]],\n",
       " [],\n",
       " []]"
      ]
     },
     "execution_count": 4,
     "metadata": {},
     "output_type": "execute_result"
    }
   ],
   "source": [
    "t.arr"
   ]
  },
  {
   "cell_type": "code",
   "execution_count": 5,
   "id": "b542badd",
   "metadata": {},
   "outputs": [
    {
     "data": {
      "text/plain": [
       "2"
      ]
     },
     "execution_count": 5,
     "metadata": {},
     "output_type": "execute_result"
    }
   ],
   "source": [
    "t[\"bca\"]"
   ]
  },
  {
   "cell_type": "code",
   "execution_count": 6,
   "id": "6d55469f",
   "metadata": {},
   "outputs": [
    {
     "data": {
      "text/plain": [
       "4"
      ]
     },
     "execution_count": 6,
     "metadata": {},
     "output_type": "execute_result"
    }
   ],
   "source": [
    "t[\"bc\"]"
   ]
  },
  {
   "cell_type": "code",
   "execution_count": 7,
   "id": "9d1e7f34",
   "metadata": {},
   "outputs": [],
   "source": [
    "del t[\"bc\"]"
   ]
  },
  {
   "cell_type": "code",
   "execution_count": 8,
   "id": "112b0738",
   "metadata": {},
   "outputs": [
    {
     "data": {
      "text/plain": [
       "[[], [], [], [], [['abc', 1], ['bca', 2]], [['ab', 3]], [], [], [], []]"
      ]
     },
     "execution_count": 8,
     "metadata": {},
     "output_type": "execute_result"
    }
   ],
   "source": [
    "t.arr"
   ]
  },
  {
   "cell_type": "code",
   "execution_count": 9,
   "id": "70513173",
   "metadata": {},
   "outputs": [],
   "source": [
    "class HashTableV2:\n",
    "    \n",
    "    def __init__(self):\n",
    "        self.max = 10\n",
    "        self.arr = [[] for i in range(self.max)]\n",
    "        \n",
    "        \n",
    "    def get_hash(self, key):\n",
    "        hash = 0\n",
    "        for char in key:\n",
    "            hash+=ord(char)\n",
    "        return hash % self.max\n",
    "    \n",
    "    \n",
    "    def __setitem__(self, key, value):\n",
    "        h = self.get_hash(key)\n",
    "        for element in self.arr[h]:\n",
    "            if element[0] == key:\n",
    "                element[1] = value\n",
    "                break\n",
    "        else:\n",
    "            self.arr[h].append([key,value])\n",
    "            \n",
    "    \n",
    "    def __getitem__(self,key):\n",
    "        h = self.get_hash(key)\n",
    "        for element in self.arr[h]:\n",
    "            if element[0] ==key:\n",
    "                return element[1]\n",
    "            \n",
    "    def __delitem__(self,key):\n",
    "        h = self.get_hash(key)\n",
    "        for element in self.arr[h]:\n",
    "            if element[0] == key:\n",
    "                self.arr[h].remove(element)\n",
    "        "
   ]
  },
  {
   "cell_type": "code",
   "execution_count": 10,
   "id": "e745a67b",
   "metadata": {},
   "outputs": [],
   "source": [
    "t2 = HashTableV2()"
   ]
  },
  {
   "cell_type": "code",
   "execution_count": 13,
   "id": "dad9866c",
   "metadata": {},
   "outputs": [],
   "source": [
    "t2[\"abc\"] = 1\n",
    "t2[\"bca\"] = 2\n",
    "t2[\"ab\"] = 3\n",
    "t2[\"cd\"] = 4\n",
    "t2[\"bc\"] = 5\n",
    "t2[\"bac\"] = 6"
   ]
  },
  {
   "cell_type": "code",
   "execution_count": 14,
   "id": "e18aa6d8",
   "metadata": {},
   "outputs": [
    {
     "data": {
      "text/plain": [
       "[[],\n",
       " [],\n",
       " [],\n",
       " [],\n",
       " [['abc', 1], ['bca', 2], ['bac', 6]],\n",
       " [['ab', 3]],\n",
       " [],\n",
       " [['bc', 5]],\n",
       " [],\n",
       " [['cd', 4]]]"
      ]
     },
     "execution_count": 14,
     "metadata": {},
     "output_type": "execute_result"
    }
   ],
   "source": [
    "t2.arr"
   ]
  },
  {
   "cell_type": "code",
   "execution_count": 15,
   "id": "844fb6ec",
   "metadata": {},
   "outputs": [],
   "source": [
    "del t2[\"bca\"]"
   ]
  },
  {
   "cell_type": "code",
   "execution_count": 16,
   "id": "b22d22cb",
   "metadata": {},
   "outputs": [
    {
     "data": {
      "text/plain": [
       "[[],\n",
       " [],\n",
       " [],\n",
       " [],\n",
       " [['abc', 1], ['bac', 6]],\n",
       " [['ab', 3]],\n",
       " [],\n",
       " [['bc', 5]],\n",
       " [],\n",
       " [['cd', 4]]]"
      ]
     },
     "execution_count": 16,
     "metadata": {},
     "output_type": "execute_result"
    }
   ],
   "source": [
    "t2.arr"
   ]
  },
  {
   "cell_type": "code",
   "execution_count": 17,
   "id": "60343e5f",
   "metadata": {},
   "outputs": [],
   "source": [
    "t2[\"bac\"] = 3"
   ]
  },
  {
   "cell_type": "code",
   "execution_count": 18,
   "id": "3da49f72",
   "metadata": {},
   "outputs": [
    {
     "data": {
      "text/plain": [
       "[[],\n",
       " [],\n",
       " [],\n",
       " [],\n",
       " [['abc', 1], ['bac', 3]],\n",
       " [['ab', 3]],\n",
       " [],\n",
       " [['bc', 5]],\n",
       " [],\n",
       " [['cd', 4]]]"
      ]
     },
     "execution_count": 18,
     "metadata": {},
     "output_type": "execute_result"
    }
   ],
   "source": [
    "t2.arr"
   ]
  },
  {
   "cell_type": "code",
   "execution_count": null,
   "id": "4b20dbd9",
   "metadata": {},
   "outputs": [],
   "source": []
  }
 ],
 "metadata": {
  "kernelspec": {
   "display_name": "Python 3 (ipykernel)",
   "language": "python",
   "name": "python3"
  },
  "language_info": {
   "codemirror_mode": {
    "name": "ipython",
    "version": 3
   },
   "file_extension": ".py",
   "mimetype": "text/x-python",
   "name": "python",
   "nbconvert_exporter": "python",
   "pygments_lexer": "ipython3",
   "version": "3.11.4"
  }
 },
 "nbformat": 4,
 "nbformat_minor": 5
}
