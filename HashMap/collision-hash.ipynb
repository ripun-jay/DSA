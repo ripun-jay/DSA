{
 "cells": [
  {
   "cell_type": "code",
   "execution_count": 23,
   "id": "547c0a97",
   "metadata": {},
   "outputs": [],
   "source": [
    "class HashTable:\n",
    "    def __init__(self):\n",
    "        self.max = 10\n",
    "        self.arr = [[] for i in range(self.max)]\n",
    "        \n",
    "    def get_hash(self, key):\n",
    "        h = 0\n",
    "        for char in key:\n",
    "            h+=ord(char)\n",
    "        return h % self.max\n",
    "    \n",
    "    def __setitem__(self, key, value):\n",
    "        h = self.get_hash(key)\n",
    "        self.arr[h].append((key,value ))\n",
    "        \n",
    "    def __getitem__(self, key):\n",
    "        h = self.get_hash(key)\n",
    "        for k, v in self.arr[h][::-1]:\n",
    "            if k == key:\n",
    "                return v\n",
    "            \n",
    "    # def __delitem__(self, key):\n",
    "        \n",
    "            \n",
    "\n",
    "    \n",
    "    "
   ]
  },
  {
   "cell_type": "code",
   "execution_count": 24,
   "id": "6df07ee5",
   "metadata": {},
   "outputs": [],
   "source": [
    "t = HashTable()"
   ]
  },
  {
   "cell_type": "code",
   "execution_count": 25,
   "id": "4d9bc452",
   "metadata": {},
   "outputs": [],
   "source": [
    "t[\"ab\"] = 1"
   ]
  },
  {
   "cell_type": "code",
   "execution_count": 8,
   "id": "cd1e2c9a",
   "metadata": {},
   "outputs": [
    {
     "data": {
      "text/plain": [
       "1"
      ]
     },
     "execution_count": 8,
     "metadata": {},
     "output_type": "execute_result"
    }
   ],
   "source": [
    "t[\"ab\"]"
   ]
  },
  {
   "cell_type": "code",
   "execution_count": 9,
   "id": "a690a8be",
   "metadata": {},
   "outputs": [
    {
     "data": {
      "text/plain": [
       "[[], [], [], [], [], [('ab', 1)], [], [], [], []]"
      ]
     },
     "execution_count": 9,
     "metadata": {},
     "output_type": "execute_result"
    }
   ],
   "source": [
    "t.arr"
   ]
  },
  {
   "cell_type": "code",
   "execution_count": 10,
   "id": "12a1c9ef",
   "metadata": {},
   "outputs": [],
   "source": [
    "t[\"ba\"] = 2"
   ]
  },
  {
   "cell_type": "code",
   "execution_count": 11,
   "id": "b6f14112",
   "metadata": {},
   "outputs": [
    {
     "data": {
      "text/plain": [
       "2"
      ]
     },
     "execution_count": 11,
     "metadata": {},
     "output_type": "execute_result"
    }
   ],
   "source": [
    "t[\"ba\"]"
   ]
  },
  {
   "cell_type": "code",
   "execution_count": 12,
   "id": "ce002b25",
   "metadata": {},
   "outputs": [
    {
     "data": {
      "text/plain": [
       "[[], [], [], [], [], [('ab', 1), ('ba', 2)], [], [], [], []]"
      ]
     },
     "execution_count": 12,
     "metadata": {},
     "output_type": "execute_result"
    }
   ],
   "source": [
    "t.arr"
   ]
  },
  {
   "cell_type": "code",
   "execution_count": 13,
   "id": "bce19965",
   "metadata": {},
   "outputs": [],
   "source": [
    "brr = [1,2,3,4,5,6]\n",
    "brr.remove(2)"
   ]
  },
  {
   "cell_type": "code",
   "execution_count": 14,
   "id": "05d363ee",
   "metadata": {},
   "outputs": [
    {
     "data": {
      "text/plain": [
       "[1, 3, 4, 5, 6]"
      ]
     },
     "execution_count": 14,
     "metadata": {},
     "output_type": "execute_result"
    }
   ],
   "source": [
    "brr"
   ]
  },
  {
   "cell_type": "code",
   "execution_count": 16,
   "id": "af059a5e",
   "metadata": {},
   "outputs": [
    {
     "data": {
      "text/plain": [
       "[6, 5, 4, 3, 1]"
      ]
     },
     "execution_count": 16,
     "metadata": {},
     "output_type": "execute_result"
    }
   ],
   "source": [
    "brr[::-1]"
   ]
  },
  {
   "cell_type": "code",
   "execution_count": 26,
   "id": "eca6f9da",
   "metadata": {},
   "outputs": [
    {
     "data": {
      "text/plain": [
       "10"
      ]
     },
     "execution_count": 26,
     "metadata": {},
     "output_type": "execute_result"
    }
   ],
   "source": [
    "t[\"cd\"] = 10\n",
    "t[\"cd\"]"
   ]
  },
  {
   "cell_type": "code",
   "execution_count": 30,
   "id": "ba65f6da",
   "metadata": {},
   "outputs": [
    {
     "data": {
      "text/plain": [
       "[[], [], [], [], [], [('ab', 1)], [], [], [], [('cd', 10), ('cd', 20)]]"
      ]
     },
     "execution_count": 30,
     "metadata": {},
     "output_type": "execute_result"
    }
   ],
   "source": [
    "t.arr"
   ]
  },
  {
   "cell_type": "code",
   "execution_count": 28,
   "id": "dd702adc",
   "metadata": {},
   "outputs": [],
   "source": [
    "t[\"cd\"] = 20"
   ]
  },
  {
   "cell_type": "code",
   "execution_count": 29,
   "id": "bd907dcc",
   "metadata": {},
   "outputs": [
    {
     "data": {
      "text/plain": [
       "20"
      ]
     },
     "execution_count": 29,
     "metadata": {},
     "output_type": "execute_result"
    }
   ],
   "source": [
    "t[\"cd\"]"
   ]
  },
  {
   "cell_type": "code",
   "execution_count": null,
   "id": "4247a1d0",
   "metadata": {},
   "outputs": [],
   "source": []
  },
  {
   "cell_type": "code",
   "execution_count": null,
   "id": "01e93689",
   "metadata": {},
   "outputs": [],
   "source": []
  }
 ],
 "metadata": {
  "kernelspec": {
   "display_name": "Python 3 (ipykernel)",
   "language": "python",
   "name": "python3"
  },
  "language_info": {
   "codemirror_mode": {
    "name": "ipython",
    "version": 3
   },
   "file_extension": ".py",
   "mimetype": "text/x-python",
   "name": "python",
   "nbconvert_exporter": "python",
   "pygments_lexer": "ipython3",
   "version": "3.11.4"
  }
 },
 "nbformat": 4,
 "nbformat_minor": 5
}
