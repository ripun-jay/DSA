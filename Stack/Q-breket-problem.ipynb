{
 "cells": [
  {
   "cell_type": "code",
   "execution_count": 12,
   "id": "7ab994a0",
   "metadata": {},
   "outputs": [],
   "source": [
    "def is_breket(str):\n",
    "    lenth = len(str)\n",
    "    str =list(str)\n",
    "    dst = {\n",
    "        \"(\": \")\",\n",
    "        \"{\": \"}\",\n",
    "        \"[\": \"]\"\n",
    "    }\n",
    "    if lenth % 2 == 0:\n",
    "        for char in str[:(lenth//2)]:\n",
    "            if char in dst and dst[char] == str.pop():\n",
    "                s = True\n",
    "            else:\n",
    "                return False\n",
    "        return s\n",
    "    else:\n",
    "        return False"
   ]
  },
  {
   "cell_type": "code",
   "execution_count": 15,
   "id": "32d27fd3",
   "metadata": {},
   "outputs": [
    {
     "data": {
      "text/plain": [
       "True"
      ]
     },
     "execution_count": 15,
     "metadata": {},
     "output_type": "execute_result"
    }
   ],
   "source": [
    "is_breket(\"[]\")"
   ]
  },
  {
   "cell_type": "code",
   "execution_count": 18,
   "id": "cfa5959b",
   "metadata": {},
   "outputs": [
    {
     "data": {
      "text/plain": [
       "False"
      ]
     },
     "execution_count": 18,
     "metadata": {},
     "output_type": "execute_result"
    }
   ],
   "source": [
    "is_breket(\"[]{}\")  # not working here, will move to V2"
   ]
  },
  {
   "cell_type": "markdown",
   "id": "5e0ef96f",
   "metadata": {},
   "source": [
    "### v2 works fine"
   ]
  },
  {
   "cell_type": "code",
   "execution_count": 11,
   "id": "3758226b",
   "metadata": {},
   "outputs": [],
   "source": [
    "def is_breketV2(str):\n",
    "    lenth = len(str)\n",
    "    str =list(str)\n",
    "    dst = {\n",
    "        \"(\": \")\",\n",
    "        \"{\": \"}\",\n",
    "        \"[\": \"]\"\n",
    "    }\n",
    "    stack = []\n",
    "    if lenth % 2 == 0:\n",
    "        for idx, char in enumerate(str):\n",
    "            if char not in dst:\n",
    "                if dst[stack.pop()] != char:\n",
    "                    return False\n",
    "                \n",
    "            else:\n",
    "                stack.append(char)\n",
    "        return len(stack) == 0\n",
    "    else:\n",
    "        return False"
   ]
  },
  {
   "cell_type": "code",
   "execution_count": 16,
   "id": "2466c092",
   "metadata": {},
   "outputs": [
    {
     "data": {
      "text/plain": [
       "False"
      ]
     },
     "execution_count": 16,
     "metadata": {},
     "output_type": "execute_result"
    }
   ],
   "source": [
    "is_breketV2(\"[]{([(])}\")"
   ]
  },
  {
   "cell_type": "code",
   "execution_count": 4,
   "id": "fbe9aaea",
   "metadata": {},
   "outputs": [
    {
     "data": {
      "text/plain": [
       "False"
      ]
     },
     "execution_count": 4,
     "metadata": {},
     "output_type": "execute_result"
    }
   ],
   "source": [
    "dst = {\n",
    "        \"(\": \")\",\n",
    "        \"{\": \"}\",\n",
    "        \"[\": \"]\"\n",
    "}\n",
    "\"]\" in dst"
   ]
  },
  {
   "cell_type": "code",
   "execution_count": 5,
   "id": "b794fa2e",
   "metadata": {},
   "outputs": [
    {
     "ename": "AttributeError",
     "evalue": "'str' object has no attribute 'pop'",
     "output_type": "error",
     "traceback": [
      "\u001b[1;31m---------------------------------------------------------------------------\u001b[0m",
      "\u001b[1;31mAttributeError\u001b[0m                            Traceback (most recent call last)",
      "Cell \u001b[1;32mIn[5], line 1\u001b[0m\n\u001b[1;32m----> 1\u001b[0m \u001b[38;5;124;43m\"\u001b[39;49m\u001b[38;5;124;43mrip\u001b[39;49m\u001b[38;5;124;43m\"\u001b[39;49m\u001b[38;5;241;43m.\u001b[39;49m\u001b[43mpop\u001b[49m()\n",
      "\u001b[1;31mAttributeError\u001b[0m: 'str' object has no attribute 'pop'"
     ]
    }
   ],
   "source": [
    "\"rip\".pop()"
   ]
  },
  {
   "cell_type": "code",
   "execution_count": 11,
   "id": "96e80497",
   "metadata": {},
   "outputs": [
    {
     "data": {
      "text/plain": [
       "2"
      ]
     },
     "execution_count": 11,
     "metadata": {},
     "output_type": "execute_result"
    }
   ],
   "source": [
    "len(\"[]\")"
   ]
  },
  {
   "cell_type": "code",
   "execution_count": null,
   "id": "a4c52f0c",
   "metadata": {},
   "outputs": [],
   "source": []
  }
 ],
 "metadata": {
  "kernelspec": {
   "display_name": "Python 3 (ipykernel)",
   "language": "python",
   "name": "python3"
  },
  "language_info": {
   "codemirror_mode": {
    "name": "ipython",
    "version": 3
   },
   "file_extension": ".py",
   "mimetype": "text/x-python",
   "name": "python",
   "nbconvert_exporter": "python",
   "pygments_lexer": "ipython3",
   "version": "3.11.4"
  }
 },
 "nbformat": 4,
 "nbformat_minor": 5
}
